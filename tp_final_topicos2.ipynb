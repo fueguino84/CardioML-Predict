{
  "cells": [
    {
      "cell_type": "markdown",
      "metadata": {
        "id": "Wx68iTZ4r46U"
      },
      "source": [
        "## Paso 1: Cargar los datos.\n",
        "Levantamos los datos de los pacientes"
      ]
    },
    {
      "cell_type": "code",
      "execution_count": null,
      "metadata": {
        "id": "YEZ97lHCsHlY"
      },
      "outputs": [],
      "source": [
        "# Read data from file\n",
        "\n",
        "import numpy as np\n",
        "import pandas as pd\n",
        "\n",
        "file_name = 'data/datos_de_pacientes_5000.csv'\n",
        "data = pd.read_csv(file_name, index_col=0)"
      ]
    },
    {
      "cell_type": "code",
      "execution_count": null,
      "metadata": {
        "colab": {
          "base_uri": "https://localhost:8080/"
        },
        "id": "CZKLrF6LsXjr",
        "outputId": "cab0912e-db83-4609-d408-6c83fe8fa0f3"
      },
      "outputs": [
        {
          "name": "stdout",
          "output_type": "stream",
          "text": [
            "      colesterol  presion  glucosa  edad  sobrepeso  tabaquismo  \\\n",
            "0            1.0      0.9      1.0     5          0           1   \n",
            "1            2.4      1.4      1.8    72          0           0   \n",
            "2            2.2      1.1      0.6    73          0           1   \n",
            "3            2.2      1.3      1.2     4          0           1   \n",
            "4            1.8      0.9      1.1    42          0           1   \n",
            "...          ...      ...      ...   ...        ...         ...   \n",
            "4995         2.5      1.0      0.9    72          0           1   \n",
            "4996         2.2      1.0      1.3    72          1           1   \n",
            "4997         2.4      0.7      1.8    51          1           1   \n",
            "4998         2.4      1.6      1.0    15          0           1   \n",
            "4999         2.1      1.3      1.2    27          0           0   \n",
            "\n",
            "      riesgo_cardiaco  \n",
            "0                   0  \n",
            "1                   1  \n",
            "2                   0  \n",
            "3                   0  \n",
            "4                   0  \n",
            "...               ...  \n",
            "4995                0  \n",
            "4996                1  \n",
            "4997                1  \n",
            "4998                1  \n",
            "4999                0  \n",
            "\n",
            "[5000 rows x 7 columns]\n"
          ]
        }
      ],
      "source": [
        "print(data)"
      ]
    },
    {
      "cell_type": "markdown",
      "metadata": {
        "id": "FCCRjzH3smIm"
      },
      "source": [
        "## Paso 2: Preprocesar los datos.\n",
        "\n",
        "Separamos los datos de entrada de las etiquetas\n",
        "\n",
        "Separamos conjuntos de training, validación y testing según sea necesario"
      ]
    },
    {
      "cell_type": "code",
      "execution_count": null,
      "metadata": {
        "id": "BZLIF8Ilsum-"
      },
      "outputs": [],
      "source": [
        "# Date preprocessing\n",
        "from sklearn.model_selection import train_test_split\n",
        "from sklearn.preprocessing import MinMaxScaler\n",
        "\n",
        "# Scaling numerical variables\n",
        "scaler = MinMaxScaler()\n",
        "\n",
        "# Separate the data from the target labels\n",
        "X = data.drop(['riesgo_cardiaco'], axis=1)\n",
        "y = np.array(data['riesgo_cardiaco'])\n",
        "\n",
        "# Split the data into training and testing sets\n",
        "X_train, X_test, y_train, y_test = train_test_split(X, y, test_size=0.2)\n",
        "\n",
        "# For training set\n",
        "scaled_X_train = scaler.fit_transform(X_train)\n",
        "scaled_X_train = pd.DataFrame(scaled_X_train, columns=X_train.columns)\n",
        "\n",
        "# For testing set\n",
        "scaled_X_test = scaler.fit_transform(X_test)\n",
        "scaled_X_test = pd.DataFrame(scaled_X_test, columns=X_test.columns)"
      ]
    },
    {
      "cell_type": "code",
      "execution_count": null,
      "metadata": {
        "colab": {
          "base_uri": "https://localhost:8080/"
        },
        "id": "n-fwBy7hubRa",
        "outputId": "6d033473-b974-4c62-c341-aed01446771c"
      },
      "outputs": [
        {
          "name": "stdout",
          "output_type": "stream",
          "text": [
            "      colesterol   presion   glucosa      edad  sobrepeso  tabaquismo\n",
            "0       0.210526  0.272727  0.857143  0.040816        1.0         1.0\n",
            "1       0.842105  0.818182  0.071429  0.938776        1.0         0.0\n",
            "2       0.315789  0.727273  0.357143  0.346939        1.0         0.0\n",
            "3       0.842105  0.909091  0.357143  0.979592        1.0         0.0\n",
            "4       0.894737  0.000000  0.642857  0.367347        1.0         0.0\n",
            "...          ...       ...       ...       ...        ...         ...\n",
            "3995    0.894737  0.636364  0.357143  0.030612        0.0         0.0\n",
            "3996    0.842105  0.636364  0.714286  0.938776        0.0         0.0\n",
            "3997    0.473684  1.000000  0.928571  0.989796        1.0         0.0\n",
            "3998    0.421053  0.272727  0.928571  0.275510        1.0         1.0\n",
            "3999    0.368421  0.727273  0.428571  0.387755        1.0         0.0\n",
            "\n",
            "[4000 rows x 6 columns]\n"
          ]
        }
      ],
      "source": [
        "\n",
        "print(scaled_X_train)"
      ]
    },
    {
      "cell_type": "code",
      "execution_count": null,
      "metadata": {},
      "outputs": [],
      "source": [
        "print(scaled_X_test)"
      ]
    },
    {
      "cell_type": "markdown",
      "metadata": {
        "id": "19Ex3xF2uB17"
      },
      "source": [
        "##Paso 3: Armo la red"
      ]
    },
    {
      "cell_type": "code",
      "execution_count": null,
      "metadata": {
        "colab": {
          "base_uri": "https://localhost:8080/"
        },
        "id": "3IOo0IwSuHF8",
        "outputId": "74c29954-b956-4037-c65c-afdf77e6288d"
      },
      "outputs": [
        {
          "name": "stdout",
          "output_type": "stream",
          "text": [
            "Model: \"sequential\"\n",
            "_________________________________________________________________\n",
            " Layer (type)                Output Shape              Param #   \n",
            "=================================================================\n",
            " dense (Dense)               (None, 50)                350       \n",
            "                                                                 \n",
            " dense_1 (Dense)             (None, 25)                1275      \n",
            "                                                                 \n",
            " dense_2 (Dense)             (None, 35)                910       \n",
            "                                                                 \n",
            " dense_3 (Dense)             (None, 1)                 36        \n",
            "                                                                 \n",
            "=================================================================\n",
            "Total params: 2571 (10.04 KB)\n",
            "Trainable params: 2571 (10.04 KB)\n",
            "Non-trainable params: 0 (0.00 Byte)\n",
            "_________________________________________________________________\n"
          ]
        }
      ],
      "source": [
        "# Build the Neural Network\n",
        "import numpy as np\n",
        "from tensorflow import keras\n",
        "from keras.models import Sequential\n",
        "from keras.layers import Dense\n",
        "from tensorflow.keras.optimizers import Adam\n",
        "\n",
        "# Create the model\n",
        "model = Sequential()\n",
        "\n",
        "# 6 INPUT (colesterol, presión, glucosa, edad, sobrepeso, tabaquismo)\n",
        "model.add(Dense(50, input_shape=(6,), activation='relu', kernel_initializer='uniform'))\n",
        "model.add(Dense(25, activation='relu', kernel_initializer='random_normal'))\n",
        "model.add(Dense(35, activation='relu', kernel_initializer='random_normal'))\n",
        "model.add(Dense(1, activation='sigmoid')) # Sigmoid activation in the output layer\n",
        "\n",
        "# Compile\n",
        "model.compile(loss='binary_crossentropy', optimizer=Adam(learning_rate=0.01))\n",
        "model.summary()"
      ]
    },
    {
      "cell_type": "markdown",
      "metadata": {
        "id": "YrisqrjQxoSN"
      },
      "source": [
        "##Paso 4: Entreno la red neuronal"
      ]
    },
    {
      "cell_type": "code",
      "execution_count": null,
      "metadata": {
        "colab": {
          "base_uri": "https://localhost:8080/"
        },
        "id": "MYxz8DmbxrUQ",
        "outputId": "3acd9daa-8c4b-4ef7-8f4a-54ef660538e0"
      },
      "outputs": [
        {
          "name": "stdout",
          "output_type": "stream",
          "text": [
            "Epoch 1/50\n",
            "1/1 - 1s - loss: 0.6930 - 1s/epoch - 1s/step\n",
            "Epoch 2/50\n",
            "1/1 - 0s - loss: 0.6730 - 15ms/epoch - 15ms/step\n",
            "Epoch 3/50\n",
            "1/1 - 0s - loss: 0.6753 - 14ms/epoch - 14ms/step\n",
            "Epoch 4/50\n",
            "1/1 - 0s - loss: 0.6684 - 18ms/epoch - 18ms/step\n",
            "Epoch 5/50\n",
            "1/1 - 0s - loss: 0.6651 - 14ms/epoch - 14ms/step\n",
            "Epoch 6/50\n",
            "1/1 - 0s - loss: 0.6591 - 14ms/epoch - 14ms/step\n",
            "Epoch 7/50\n",
            "1/1 - 0s - loss: 0.6560 - 13ms/epoch - 13ms/step\n",
            "Epoch 8/50\n",
            "1/1 - 0s - loss: 0.6515 - 14ms/epoch - 14ms/step\n",
            "Epoch 9/50\n",
            "1/1 - 0s - loss: 0.6457 - 12ms/epoch - 12ms/step\n",
            "Epoch 10/50\n",
            "1/1 - 0s - loss: 0.6423 - 13ms/epoch - 13ms/step\n",
            "Epoch 11/50\n",
            "1/1 - 0s - loss: 0.6416 - 14ms/epoch - 14ms/step\n",
            "Epoch 12/50\n",
            "1/1 - 0s - loss: 0.6360 - 17ms/epoch - 17ms/step\n",
            "Epoch 13/50\n",
            "1/1 - 0s - loss: 0.6269 - 26ms/epoch - 26ms/step\n",
            "Epoch 14/50\n",
            "1/1 - 0s - loss: 0.6271 - 16ms/epoch - 16ms/step\n",
            "Epoch 15/50\n",
            "1/1 - 0s - loss: 0.6241 - 18ms/epoch - 18ms/step\n",
            "Epoch 16/50\n",
            "1/1 - 0s - loss: 0.6111 - 13ms/epoch - 13ms/step\n",
            "Epoch 17/50\n",
            "1/1 - 0s - loss: 0.6103 - 14ms/epoch - 14ms/step\n",
            "Epoch 18/50\n",
            "1/1 - 0s - loss: 0.6096 - 17ms/epoch - 17ms/step\n",
            "Epoch 19/50\n",
            "1/1 - 0s - loss: 0.5915 - 18ms/epoch - 18ms/step\n",
            "Epoch 20/50\n",
            "1/1 - 0s - loss: 0.5858 - 14ms/epoch - 14ms/step\n",
            "Epoch 21/50\n",
            "1/1 - 0s - loss: 0.5886 - 14ms/epoch - 14ms/step\n",
            "Epoch 22/50\n",
            "1/1 - 0s - loss: 0.5724 - 14ms/epoch - 14ms/step\n",
            "Epoch 23/50\n",
            "1/1 - 0s - loss: 0.5545 - 16ms/epoch - 16ms/step\n",
            "Epoch 24/50\n",
            "1/1 - 0s - loss: 0.5418 - 14ms/epoch - 14ms/step\n",
            "Epoch 25/50\n",
            "1/1 - 0s - loss: 0.5445 - 16ms/epoch - 16ms/step\n",
            "Epoch 26/50\n",
            "1/1 - 0s - loss: 0.6246 - 16ms/epoch - 16ms/step\n",
            "Epoch 27/50\n",
            "1/1 - 0s - loss: 0.5379 - 15ms/epoch - 15ms/step\n",
            "Epoch 28/50\n",
            "1/1 - 0s - loss: 0.5305 - 14ms/epoch - 14ms/step\n",
            "Epoch 29/50\n",
            "1/1 - 0s - loss: 0.5657 - 17ms/epoch - 17ms/step\n",
            "Epoch 30/50\n",
            "1/1 - 0s - loss: 0.5151 - 14ms/epoch - 14ms/step\n",
            "Epoch 31/50\n",
            "1/1 - 0s - loss: 0.5726 - 13ms/epoch - 13ms/step\n",
            "Epoch 32/50\n",
            "1/1 - 0s - loss: 0.5134 - 14ms/epoch - 14ms/step\n",
            "Epoch 33/50\n",
            "1/1 - 0s - loss: 0.5496 - 15ms/epoch - 15ms/step\n",
            "Epoch 34/50\n",
            "1/1 - 0s - loss: 0.5076 - 16ms/epoch - 16ms/step\n",
            "Epoch 35/50\n",
            "1/1 - 0s - loss: 0.5364 - 14ms/epoch - 14ms/step\n",
            "Epoch 36/50\n",
            "1/1 - 0s - loss: 0.5031 - 14ms/epoch - 14ms/step\n",
            "Epoch 37/50\n",
            "1/1 - 0s - loss: 0.5258 - 17ms/epoch - 17ms/step\n",
            "Epoch 38/50\n",
            "1/1 - 0s - loss: 0.4982 - 15ms/epoch - 15ms/step\n",
            "Epoch 39/50\n",
            "1/1 - 0s - loss: 0.5182 - 14ms/epoch - 14ms/step\n",
            "Epoch 40/50\n",
            "1/1 - 0s - loss: 0.4936 - 23ms/epoch - 23ms/step\n",
            "Epoch 41/50\n",
            "1/1 - 0s - loss: 0.5058 - 19ms/epoch - 19ms/step\n",
            "Epoch 42/50\n",
            "1/1 - 0s - loss: 0.4915 - 13ms/epoch - 13ms/step\n",
            "Epoch 43/50\n",
            "1/1 - 0s - loss: 0.4889 - 15ms/epoch - 15ms/step\n",
            "Epoch 44/50\n",
            "1/1 - 0s - loss: 0.4894 - 16ms/epoch - 16ms/step\n",
            "Epoch 45/50\n",
            "1/1 - 0s - loss: 0.4817 - 13ms/epoch - 13ms/step\n",
            "Epoch 46/50\n",
            "1/1 - 0s - loss: 0.4809 - 13ms/epoch - 13ms/step\n",
            "Epoch 47/50\n",
            "1/1 - 0s - loss: 0.4773 - 14ms/epoch - 14ms/step\n",
            "Epoch 48/50\n",
            "1/1 - 0s - loss: 0.4730 - 14ms/epoch - 14ms/step\n",
            "Epoch 49/50\n",
            "1/1 - 0s - loss: 0.4691 - 13ms/epoch - 13ms/step\n",
            "Epoch 50/50\n",
            "1/1 - 0s - loss: 0.4651 - 14ms/epoch - 14ms/step\n"
          ]
        },
        {
          "data": {
            "text/plain": [
              "<keras.src.callbacks.History at 0x7c26fe0de920>"
            ]
          },
          "execution_count": 6,
          "metadata": {},
          "output_type": "execute_result"
        }
      ],
      "source": [
        "# Training\n",
        "historicalModel=model.fit(X_train, y_train, verbose=2, batch_size = 10000, epochs=200)"
      ]
    },
    {
      "cell_type": "markdown",
      "metadata": {
        "id": "TIK20njey7kq"
      },
      "source": [
        "##Paso 5: Evaluo la red"
      ]
    },
    {
      "cell_type": "code",
      "execution_count": null,
      "metadata": {
        "colab": {
          "base_uri": "https://localhost:8080/"
        },
        "id": "2IiAJpWNy9hM",
        "outputId": "276201ef-7395-4e2c-8252-34bf0455ff14"
      },
      "outputs": [
        {
          "name": "stdout",
          "output_type": "stream",
          "text": [
            "32/32 [==============================] - 0s 2ms/step - loss: 0.4952\n"
          ]
        }
      ],
      "source": [
        "# Evaluate\n",
        "result = model.evaluate(X_test, y_test)\n",
        "print(\"Evaluate the model: \",result)"
      ]
    },
    {
      "cell_type": "code",
      "execution_count": null,
      "metadata": {},
      "outputs": [],
      "source": [
        "# Make predictions with the model\n",
        "y_pred = model.predict(scaled_X_test)"
      ]
    },
    {
      "cell_type": "code",
      "execution_count": null,
      "metadata": {},
      "outputs": [],
      "source": [
        "import matplotlib.pyplot as plt\n",
        "plt.xlabel(\"# Epoca\")\n",
        "plt.ylabel(\"Magnitud de pérdida\")\n",
        "plt.plot(historicalModel.history[\"loss\"])\n"
      ]
    },
    {
      "cell_type": "code",
      "execution_count": null,
      "metadata": {},
      "outputs": [],
      "source": [
        "print(\"Datos a predecir:\")\n",
        "print(X_train[:3])\n",
        "print(\"-----------------\")\n",
        "\n",
        "print(\"Resultados obtenidos:\")\n",
        "print(y_pred[:3])\n",
        "print(\"Valores correctos:\")\n",
        "print(y_train[:3])"
      ]
    },
    {
      "cell_type": "code",
      "execution_count": null,
      "metadata": {},
      "outputs": [],
      "source": [
        "import pickle\n",
        "model_pkl_file = \"model.pkl\"  \n",
        "\n",
        "with open(model_pkl_file, 'wb') as file:  \n",
        "    pickle.dump(model, file)\n",
        "\n",
        "with open(model_pkl_file, 'rb') as file:  \n",
        "    model = pickle.load(file)"
      ]
    }
  ],
  "metadata": {
    "colab": {
      "provenance": [],
      "toc_visible": true
    },
    "kernelspec": {
      "display_name": "Python 3",
      "name": "python3"
    },
    "language_info": {
      "name": "python"
    }
  },
  "nbformat": 4,
  "nbformat_minor": 0
}
