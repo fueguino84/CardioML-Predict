{
  "nbformat": 4,
  "nbformat_minor": 0,
  "metadata": {
    "colab": {
      "provenance": [],
      "collapsed_sections": [
        "19Ex3xF2uB17"
      ]
    },
    "kernelspec": {
      "name": "python3",
      "display_name": "Python 3"
    },
    "language_info": {
      "name": "python"
    }
  },
  "cells": [
    {
      "cell_type": "code",
      "execution_count": null,
      "metadata": {
        "id": "YDqg5jYqrvRu"
      },
      "outputs": [],
      "source": []
    },
    {
      "cell_type": "markdown",
      "source": [
        "## Paso 1: Cargar los datos.\n",
        "Levantamos los datos de los pacientes"
      ],
      "metadata": {
        "id": "Wx68iTZ4r46U"
      }
    },
    {
      "cell_type": "code",
      "source": [
        "# Read data from file\n",
        "\n",
        "import numpy as np\n",
        "import pandas as pd\n",
        "\n",
        "file_name = './datos_de_pacientes_5000.csv'\n",
        "data = pd.read_csv(file_name, index_col=0)"
      ],
      "metadata": {
        "id": "YEZ97lHCsHlY"
      },
      "execution_count": 2,
      "outputs": []
    },
    {
      "cell_type": "code",
      "source": [
        "print(\"Datos de pacientes\")\n",
        "print(\"-----------------------\")\n",
        "print(data)"
      ],
      "metadata": {
        "colab": {
          "base_uri": "https://localhost:8080/"
        },
        "id": "CZKLrF6LsXjr",
        "outputId": "bf60f13d-52b0-4a44-ff26-19d10ca84c10"
      },
      "execution_count": 3,
      "outputs": [
        {
          "output_type": "stream",
          "name": "stdout",
          "text": [
            "Datos de pacientes\n",
            "-----------------------\n",
            "      colesterol  presion  glucosa  edad  sobrepeso  tabaquismo  \\\n",
            "0            1.0      0.9      1.0     5          0           1   \n",
            "1            2.4      1.4      1.8    72          0           0   \n",
            "2            2.2      1.1      0.6    73          0           1   \n",
            "3            2.2      1.3      1.2     4          0           1   \n",
            "4            1.8      0.9      1.1    42          0           1   \n",
            "...          ...      ...      ...   ...        ...         ...   \n",
            "4995         2.5      1.0      0.9    72          0           1   \n",
            "4996         2.2      1.0      1.3    72          1           1   \n",
            "4997         2.4      0.7      1.8    51          1           1   \n",
            "4998         2.4      1.6      1.0    15          0           1   \n",
            "4999         2.1      1.3      1.2    27          0           0   \n",
            "\n",
            "      riesgo_cardiaco  \n",
            "0                   0  \n",
            "1                   1  \n",
            "2                   0  \n",
            "3                   0  \n",
            "4                   0  \n",
            "...               ...  \n",
            "4995                0  \n",
            "4996                1  \n",
            "4997                1  \n",
            "4998                1  \n",
            "4999                0  \n",
            "\n",
            "[5000 rows x 7 columns]\n"
          ]
        }
      ]
    },
    {
      "cell_type": "markdown",
      "source": [
        "## Paso 2: Preprocesar los datos.\n",
        "\n",
        "Separamos los datos de entrada de las etiquetas\n",
        "\n",
        "Separamos conjuntos de training, validación y testing según sea necesario"
      ],
      "metadata": {
        "id": "FCCRjzH3smIm"
      }
    },
    {
      "cell_type": "code",
      "source": [
        "# Date preprocessing\n",
        "from sklearn.model_selection import train_test_split\n",
        "from sklearn.preprocessing import MinMaxScaler\n",
        "\n",
        "# Scaling numerical variables\n",
        "scaler = MinMaxScaler()\n",
        "\n",
        "# Separate the data from the target labels\n",
        "X = data.drop(['riesgo_cardiaco'], axis=1)\n",
        "y = np.array(data['riesgo_cardiaco'])\n",
        "\n",
        "\n",
        "# Split the data into training and testing sets\n",
        "X_train, X_test, y_train, y_test = train_test_split(X, y, test_size=0.2)\n",
        "\n",
        "# For training set\n",
        "scaled_X_train = scaler.fit_transform(X_train)\n",
        "scaled_X_train = pd.DataFrame(scaled_X_train, columns=X_train.columns)\n",
        "\n",
        "# For testing set\n",
        "scaled_X_test = scaler.transform(X_test)\n",
        "scaled_X_test = pd.DataFrame(scaled_X_test, columns=X_test.columns)\n"
      ],
      "metadata": {
        "id": "BZLIF8Ilsum-"
      },
      "execution_count": 10,
      "outputs": []
    },
    {
      "cell_type": "code",
      "source": [
        "print(\"Set de training\")\n",
        "print(\"---------------\")\n",
        "print(scaled_X_train)"
      ],
      "metadata": {
        "colab": {
          "base_uri": "https://localhost:8080/"
        },
        "id": "n-fwBy7hubRa",
        "outputId": "73189613-8e21-4521-afb3-d15c45aef6ac"
      },
      "execution_count": 11,
      "outputs": [
        {
          "output_type": "stream",
          "name": "stdout",
          "text": [
            "Set de training\n",
            "---------------\n",
            "      colesterol   presion   glucosa      edad  sobrepeso  tabaquismo\n",
            "0       0.578947  0.636364  0.857143  0.091837        0.0         1.0\n",
            "1       0.631579  0.181818  1.000000  0.030612        0.0         1.0\n",
            "2       0.947368  0.454545  0.214286  0.030612        1.0         1.0\n",
            "3       0.157895  0.000000  0.214286  0.714286        0.0         1.0\n",
            "4       0.894737  0.000000  0.214286  0.193878        1.0         0.0\n",
            "...          ...       ...       ...       ...        ...         ...\n",
            "3995    0.526316  0.181818  0.071429  0.989796        1.0         1.0\n",
            "3996    0.000000  0.090909  0.357143  0.959184        0.0         0.0\n",
            "3997    0.210526  0.272727  1.000000  0.357143        0.0         0.0\n",
            "3998    0.684211  0.181818  0.071429  0.142857        1.0         0.0\n",
            "3999    0.368421  0.727273  0.642857  0.969388        0.0         0.0\n",
            "\n",
            "[4000 rows x 6 columns]\n"
          ]
        }
      ]
    },
    {
      "cell_type": "code",
      "source": [
        "print(\"Set de test\")\n",
        "print(\"------------\")\n",
        "print(scaled_X_test)"
      ],
      "metadata": {
        "colab": {
          "base_uri": "https://localhost:8080/"
        },
        "id": "pFM99Jxtk4Wr",
        "outputId": "41336504-cf48-43e0-dc67-ed5afc73dfec"
      },
      "execution_count": 12,
      "outputs": [
        {
          "output_type": "stream",
          "name": "stdout",
          "text": [
            "Set de test\n",
            "------------\n",
            "     colesterol   presion   glucosa      edad  sobrepeso  tabaquismo\n",
            "0      1.000000  0.181818  0.428571  0.673469        1.0         1.0\n",
            "1      0.157895  0.000000  0.071429  0.153061        0.0         0.0\n",
            "2      0.421053  0.545455  0.000000  0.673469        1.0         0.0\n",
            "3      0.894737  0.818182  0.000000  1.000000        1.0         1.0\n",
            "4      0.000000  0.181818  0.428571  0.857143        1.0         0.0\n",
            "..          ...       ...       ...       ...        ...         ...\n",
            "995    0.631579  0.545455  0.428571  0.887755        0.0         1.0\n",
            "996    0.736842  0.363636  0.214286  0.887755        0.0         1.0\n",
            "997    0.421053  0.181818  0.714286  0.438776        1.0         0.0\n",
            "998    1.000000  0.000000  0.214286  0.846939        1.0         1.0\n",
            "999    0.052632  0.181818  0.285714  0.918367        1.0         0.0\n",
            "\n",
            "[1000 rows x 6 columns]\n"
          ]
        }
      ]
    },
    {
      "cell_type": "markdown",
      "source": [
        "##Paso 3: Armo la red"
      ],
      "metadata": {
        "id": "19Ex3xF2uB17"
      }
    },
    {
      "cell_type": "code",
      "source": [
        "# Build the Neural Network\n",
        "import numpy as np\n",
        "from tensorflow import keras\n",
        "from keras.models import Sequential\n",
        "from keras.layers import Dense\n",
        "from tensorflow.keras.optimizers import Adam\n",
        "\n",
        "# Create the model\n",
        "model = Sequential()\n",
        "\n",
        "# 6 INPUT (colesterol, presión, glucosa, edad, sobrepeso, tabaquismo)\n",
        "model.add(Dense(50, input_shape=(6,), activation='relu', kernel_initializer='uniform'))\n",
        "model.add(Dense(25, activation='relu', kernel_initializer='random_normal'))\n",
        "model.add(Dense(35, activation='relu', kernel_initializer='random_normal'))\n",
        "model.add(Dense(1, activation='sigmoid')) # Sigmoid activation in the output layer\n",
        "\n",
        "# Compile\n",
        "model.compile(loss='binary_crossentropy', optimizer=Adam(learning_rate=0.01))\n",
        "model.summary()"
      ],
      "metadata": {
        "colab": {
          "base_uri": "https://localhost:8080/"
        },
        "id": "3IOo0IwSuHF8",
        "outputId": "cc98a468-a974-45c5-c3e9-17f3c5d7c3ff"
      },
      "execution_count": 13,
      "outputs": [
        {
          "output_type": "stream",
          "name": "stdout",
          "text": [
            "Model: \"sequential_1\"\n",
            "_________________________________________________________________\n",
            " Layer (type)                Output Shape              Param #   \n",
            "=================================================================\n",
            " dense_4 (Dense)             (None, 50)                350       \n",
            "                                                                 \n",
            " dense_5 (Dense)             (None, 25)                1275      \n",
            "                                                                 \n",
            " dense_6 (Dense)             (None, 35)                910       \n",
            "                                                                 \n",
            " dense_7 (Dense)             (None, 1)                 36        \n",
            "                                                                 \n",
            "=================================================================\n",
            "Total params: 2571 (10.04 KB)\n",
            "Trainable params: 2571 (10.04 KB)\n",
            "Non-trainable params: 0 (0.00 Byte)\n",
            "_________________________________________________________________\n"
          ]
        }
      ]
    },
    {
      "cell_type": "markdown",
      "source": [
        "##Paso 4: Entreno la red neuronal"
      ],
      "metadata": {
        "id": "YrisqrjQxoSN"
      }
    },
    {
      "cell_type": "code",
      "source": [
        "# Training\n",
        "historicalModel = model.fit(scaled_X_train, y_train, validation_split=0.2, epochs=200, batch_size=32, verbose=2)"
      ],
      "metadata": {
        "colab": {
          "base_uri": "https://localhost:8080/"
        },
        "id": "MYxz8DmbxrUQ",
        "outputId": "7b7cd1dc-98df-4235-eb99-fc75098d376c"
      },
      "execution_count": 14,
      "outputs": [
        {
          "output_type": "stream",
          "name": "stdout",
          "text": [
            "Epoch 1/200\n",
            "100/100 - 1s - loss: 0.5334 - val_loss: 0.3821 - 1s/epoch - 15ms/step\n",
            "Epoch 2/200\n",
            "100/100 - 0s - loss: 0.3121 - val_loss: 0.2293 - 247ms/epoch - 2ms/step\n",
            "Epoch 3/200\n",
            "100/100 - 0s - loss: 0.1989 - val_loss: 0.1339 - 286ms/epoch - 3ms/step\n",
            "Epoch 4/200\n",
            "100/100 - 0s - loss: 0.1760 - val_loss: 0.1949 - 256ms/epoch - 3ms/step\n",
            "Epoch 5/200\n",
            "100/100 - 0s - loss: 0.1383 - val_loss: 0.1051 - 245ms/epoch - 2ms/step\n",
            "Epoch 6/200\n",
            "100/100 - 0s - loss: 0.1350 - val_loss: 0.0900 - 254ms/epoch - 3ms/step\n",
            "Epoch 7/200\n",
            "100/100 - 0s - loss: 0.1027 - val_loss: 0.0881 - 262ms/epoch - 3ms/step\n",
            "Epoch 8/200\n",
            "100/100 - 0s - loss: 0.1113 - val_loss: 0.1183 - 402ms/epoch - 4ms/step\n",
            "Epoch 9/200\n",
            "100/100 - 0s - loss: 0.1049 - val_loss: 0.0702 - 359ms/epoch - 4ms/step\n",
            "Epoch 10/200\n",
            "100/100 - 0s - loss: 0.0957 - val_loss: 0.0680 - 370ms/epoch - 4ms/step\n",
            "Epoch 11/200\n",
            "100/100 - 0s - loss: 0.0771 - val_loss: 0.0973 - 370ms/epoch - 4ms/step\n",
            "Epoch 12/200\n",
            "100/100 - 0s - loss: 0.0836 - val_loss: 0.0490 - 402ms/epoch - 4ms/step\n",
            "Epoch 13/200\n",
            "100/100 - 1s - loss: 0.0733 - val_loss: 0.0907 - 520ms/epoch - 5ms/step\n",
            "Epoch 14/200\n",
            "100/100 - 0s - loss: 0.0704 - val_loss: 0.0531 - 443ms/epoch - 4ms/step\n",
            "Epoch 15/200\n",
            "100/100 - 0s - loss: 0.0902 - val_loss: 0.0591 - 412ms/epoch - 4ms/step\n",
            "Epoch 16/200\n",
            "100/100 - 0s - loss: 0.0816 - val_loss: 0.0890 - 263ms/epoch - 3ms/step\n",
            "Epoch 17/200\n",
            "100/100 - 0s - loss: 0.0629 - val_loss: 0.0545 - 266ms/epoch - 3ms/step\n",
            "Epoch 18/200\n",
            "100/100 - 0s - loss: 0.0618 - val_loss: 0.0476 - 224ms/epoch - 2ms/step\n",
            "Epoch 19/200\n",
            "100/100 - 0s - loss: 0.0716 - val_loss: 0.0504 - 251ms/epoch - 3ms/step\n",
            "Epoch 20/200\n",
            "100/100 - 0s - loss: 0.0755 - val_loss: 0.0674 - 283ms/epoch - 3ms/step\n",
            "Epoch 21/200\n",
            "100/100 - 0s - loss: 0.0583 - val_loss: 0.0937 - 265ms/epoch - 3ms/step\n",
            "Epoch 22/200\n",
            "100/100 - 0s - loss: 0.0582 - val_loss: 0.0535 - 257ms/epoch - 3ms/step\n",
            "Epoch 23/200\n",
            "100/100 - 0s - loss: 0.0746 - val_loss: 0.0543 - 262ms/epoch - 3ms/step\n",
            "Epoch 24/200\n",
            "100/100 - 0s - loss: 0.0737 - val_loss: 0.0689 - 231ms/epoch - 2ms/step\n",
            "Epoch 25/200\n",
            "100/100 - 0s - loss: 0.0733 - val_loss: 0.0513 - 289ms/epoch - 3ms/step\n",
            "Epoch 26/200\n",
            "100/100 - 0s - loss: 0.0586 - val_loss: 0.0500 - 283ms/epoch - 3ms/step\n",
            "Epoch 27/200\n",
            "100/100 - 0s - loss: 0.0610 - val_loss: 0.0617 - 275ms/epoch - 3ms/step\n",
            "Epoch 28/200\n",
            "100/100 - 0s - loss: 0.0649 - val_loss: 0.0558 - 249ms/epoch - 2ms/step\n",
            "Epoch 29/200\n",
            "100/100 - 0s - loss: 0.0600 - val_loss: 0.0529 - 267ms/epoch - 3ms/step\n",
            "Epoch 30/200\n",
            "100/100 - 0s - loss: 0.0536 - val_loss: 0.0589 - 246ms/epoch - 2ms/step\n",
            "Epoch 31/200\n",
            "100/100 - 0s - loss: 0.0443 - val_loss: 0.0519 - 242ms/epoch - 2ms/step\n",
            "Epoch 32/200\n",
            "100/100 - 0s - loss: 0.0516 - val_loss: 0.0469 - 238ms/epoch - 2ms/step\n",
            "Epoch 33/200\n",
            "100/100 - 0s - loss: 0.0535 - val_loss: 0.0525 - 250ms/epoch - 2ms/step\n",
            "Epoch 34/200\n",
            "100/100 - 0s - loss: 0.0450 - val_loss: 0.0492 - 270ms/epoch - 3ms/step\n",
            "Epoch 35/200\n",
            "100/100 - 0s - loss: 0.0667 - val_loss: 0.0363 - 277ms/epoch - 3ms/step\n",
            "Epoch 36/200\n",
            "100/100 - 0s - loss: 0.0422 - val_loss: 0.0377 - 237ms/epoch - 2ms/step\n",
            "Epoch 37/200\n",
            "100/100 - 0s - loss: 0.0555 - val_loss: 0.0333 - 265ms/epoch - 3ms/step\n",
            "Epoch 38/200\n",
            "100/100 - 0s - loss: 0.0461 - val_loss: 0.0618 - 229ms/epoch - 2ms/step\n",
            "Epoch 39/200\n",
            "100/100 - 0s - loss: 0.0404 - val_loss: 0.0457 - 252ms/epoch - 3ms/step\n",
            "Epoch 40/200\n",
            "100/100 - 0s - loss: 0.0510 - val_loss: 0.0227 - 254ms/epoch - 3ms/step\n",
            "Epoch 41/200\n",
            "100/100 - 0s - loss: 0.0396 - val_loss: 0.0339 - 277ms/epoch - 3ms/step\n",
            "Epoch 42/200\n",
            "100/100 - 0s - loss: 0.0406 - val_loss: 0.0294 - 264ms/epoch - 3ms/step\n",
            "Epoch 43/200\n",
            "100/100 - 0s - loss: 0.0365 - val_loss: 0.0323 - 231ms/epoch - 2ms/step\n",
            "Epoch 44/200\n",
            "100/100 - 0s - loss: 0.0407 - val_loss: 0.0256 - 228ms/epoch - 2ms/step\n",
            "Epoch 45/200\n",
            "100/100 - 0s - loss: 0.0615 - val_loss: 0.0259 - 272ms/epoch - 3ms/step\n",
            "Epoch 46/200\n",
            "100/100 - 0s - loss: 0.0522 - val_loss: 0.0326 - 224ms/epoch - 2ms/step\n",
            "Epoch 47/200\n",
            "100/100 - 0s - loss: 0.0383 - val_loss: 0.0347 - 231ms/epoch - 2ms/step\n",
            "Epoch 48/200\n",
            "100/100 - 0s - loss: 0.0256 - val_loss: 0.0190 - 245ms/epoch - 2ms/step\n",
            "Epoch 49/200\n",
            "100/100 - 0s - loss: 0.0555 - val_loss: 0.0317 - 240ms/epoch - 2ms/step\n",
            "Epoch 50/200\n",
            "100/100 - 0s - loss: 0.0312 - val_loss: 0.0210 - 230ms/epoch - 2ms/step\n",
            "Epoch 51/200\n",
            "100/100 - 0s - loss: 0.0455 - val_loss: 0.0178 - 225ms/epoch - 2ms/step\n",
            "Epoch 52/200\n",
            "100/100 - 0s - loss: 0.0535 - val_loss: 0.0381 - 234ms/epoch - 2ms/step\n",
            "Epoch 53/200\n",
            "100/100 - 0s - loss: 0.0246 - val_loss: 0.0121 - 231ms/epoch - 2ms/step\n",
            "Epoch 54/200\n",
            "100/100 - 0s - loss: 0.0461 - val_loss: 0.0303 - 253ms/epoch - 3ms/step\n",
            "Epoch 55/200\n",
            "100/100 - 0s - loss: 0.0249 - val_loss: 0.0338 - 333ms/epoch - 3ms/step\n",
            "Epoch 56/200\n",
            "100/100 - 0s - loss: 0.0311 - val_loss: 0.0151 - 374ms/epoch - 4ms/step\n",
            "Epoch 57/200\n",
            "100/100 - 0s - loss: 0.0235 - val_loss: 0.0220 - 388ms/epoch - 4ms/step\n",
            "Epoch 58/200\n",
            "100/100 - 1s - loss: 0.0211 - val_loss: 0.0208 - 770ms/epoch - 8ms/step\n",
            "Epoch 59/200\n",
            "100/100 - 0s - loss: 0.0402 - val_loss: 0.0257 - 388ms/epoch - 4ms/step\n",
            "Epoch 60/200\n",
            "100/100 - 1s - loss: 0.0188 - val_loss: 0.0073 - 759ms/epoch - 8ms/step\n",
            "Epoch 61/200\n",
            "100/100 - 0s - loss: 0.0209 - val_loss: 0.0154 - 424ms/epoch - 4ms/step\n",
            "Epoch 62/200\n",
            "100/100 - 0s - loss: 0.0589 - val_loss: 0.0912 - 311ms/epoch - 3ms/step\n",
            "Epoch 63/200\n",
            "100/100 - 0s - loss: 0.0436 - val_loss: 0.0249 - 261ms/epoch - 3ms/step\n",
            "Epoch 64/200\n",
            "100/100 - 0s - loss: 0.0231 - val_loss: 0.0359 - 240ms/epoch - 2ms/step\n",
            "Epoch 65/200\n",
            "100/100 - 0s - loss: 0.0326 - val_loss: 0.1297 - 278ms/epoch - 3ms/step\n",
            "Epoch 66/200\n",
            "100/100 - 0s - loss: 0.0354 - val_loss: 0.0214 - 286ms/epoch - 3ms/step\n",
            "Epoch 67/200\n",
            "100/100 - 0s - loss: 0.0185 - val_loss: 0.0168 - 269ms/epoch - 3ms/step\n",
            "Epoch 68/200\n",
            "100/100 - 0s - loss: 0.0198 - val_loss: 0.0432 - 287ms/epoch - 3ms/step\n",
            "Epoch 69/200\n",
            "100/100 - 0s - loss: 0.0202 - val_loss: 0.0159 - 242ms/epoch - 2ms/step\n",
            "Epoch 70/200\n",
            "100/100 - 0s - loss: 0.0266 - val_loss: 0.0081 - 251ms/epoch - 3ms/step\n",
            "Epoch 71/200\n",
            "100/100 - 0s - loss: 0.0184 - val_loss: 0.0423 - 265ms/epoch - 3ms/step\n",
            "Epoch 72/200\n",
            "100/100 - 0s - loss: 0.0145 - val_loss: 0.0057 - 232ms/epoch - 2ms/step\n",
            "Epoch 73/200\n",
            "100/100 - 0s - loss: 0.0252 - val_loss: 0.0188 - 259ms/epoch - 3ms/step\n",
            "Epoch 74/200\n",
            "100/100 - 0s - loss: 0.0325 - val_loss: 0.0168 - 246ms/epoch - 2ms/step\n",
            "Epoch 75/200\n",
            "100/100 - 0s - loss: 0.0175 - val_loss: 0.0134 - 274ms/epoch - 3ms/step\n",
            "Epoch 76/200\n",
            "100/100 - 0s - loss: 0.0205 - val_loss: 0.0497 - 236ms/epoch - 2ms/step\n",
            "Epoch 77/200\n",
            "100/100 - 0s - loss: 0.0136 - val_loss: 0.0071 - 235ms/epoch - 2ms/step\n",
            "Epoch 78/200\n",
            "100/100 - 0s - loss: 0.0354 - val_loss: 0.0109 - 256ms/epoch - 3ms/step\n",
            "Epoch 79/200\n",
            "100/100 - 0s - loss: 0.0171 - val_loss: 0.0288 - 278ms/epoch - 3ms/step\n",
            "Epoch 80/200\n",
            "100/100 - 0s - loss: 0.0148 - val_loss: 0.0662 - 219ms/epoch - 2ms/step\n",
            "Epoch 81/200\n",
            "100/100 - 0s - loss: 0.0425 - val_loss: 0.0193 - 247ms/epoch - 2ms/step\n",
            "Epoch 82/200\n",
            "100/100 - 0s - loss: 0.0120 - val_loss: 0.0098 - 246ms/epoch - 2ms/step\n",
            "Epoch 83/200\n",
            "100/100 - 0s - loss: 0.0271 - val_loss: 0.0123 - 280ms/epoch - 3ms/step\n",
            "Epoch 84/200\n",
            "100/100 - 0s - loss: 0.0204 - val_loss: 0.0128 - 274ms/epoch - 3ms/step\n",
            "Epoch 85/200\n",
            "100/100 - 0s - loss: 0.0114 - val_loss: 0.0149 - 233ms/epoch - 2ms/step\n",
            "Epoch 86/200\n",
            "100/100 - 0s - loss: 0.0240 - val_loss: 0.0282 - 268ms/epoch - 3ms/step\n",
            "Epoch 87/200\n",
            "100/100 - 0s - loss: 0.0229 - val_loss: 0.0149 - 267ms/epoch - 3ms/step\n",
            "Epoch 88/200\n",
            "100/100 - 0s - loss: 0.0246 - val_loss: 0.0176 - 271ms/epoch - 3ms/step\n",
            "Epoch 89/200\n",
            "100/100 - 0s - loss: 0.0532 - val_loss: 0.0386 - 249ms/epoch - 2ms/step\n",
            "Epoch 90/200\n",
            "100/100 - 0s - loss: 0.0195 - val_loss: 0.0138 - 257ms/epoch - 3ms/step\n",
            "Epoch 91/200\n",
            "100/100 - 0s - loss: 0.0181 - val_loss: 0.0177 - 267ms/epoch - 3ms/step\n",
            "Epoch 92/200\n",
            "100/100 - 0s - loss: 0.0149 - val_loss: 0.0047 - 237ms/epoch - 2ms/step\n",
            "Epoch 93/200\n",
            "100/100 - 0s - loss: 0.0085 - val_loss: 0.0133 - 256ms/epoch - 3ms/step\n",
            "Epoch 94/200\n",
            "100/100 - 0s - loss: 0.0116 - val_loss: 0.0176 - 258ms/epoch - 3ms/step\n",
            "Epoch 95/200\n",
            "100/100 - 0s - loss: 0.0508 - val_loss: 0.0633 - 280ms/epoch - 3ms/step\n",
            "Epoch 96/200\n",
            "100/100 - 0s - loss: 0.0197 - val_loss: 0.0116 - 254ms/epoch - 3ms/step\n",
            "Epoch 97/200\n",
            "100/100 - 0s - loss: 0.0152 - val_loss: 0.0677 - 254ms/epoch - 3ms/step\n",
            "Epoch 98/200\n",
            "100/100 - 0s - loss: 0.0174 - val_loss: 0.0142 - 230ms/epoch - 2ms/step\n",
            "Epoch 99/200\n",
            "100/100 - 0s - loss: 0.0158 - val_loss: 0.0265 - 252ms/epoch - 3ms/step\n",
            "Epoch 100/200\n",
            "100/100 - 0s - loss: 0.0111 - val_loss: 0.0112 - 348ms/epoch - 3ms/step\n",
            "Epoch 101/200\n",
            "100/100 - 0s - loss: 0.0232 - val_loss: 0.0401 - 409ms/epoch - 4ms/step\n",
            "Epoch 102/200\n",
            "100/100 - 0s - loss: 0.0465 - val_loss: 0.0323 - 411ms/epoch - 4ms/step\n",
            "Epoch 103/200\n",
            "100/100 - 0s - loss: 0.0236 - val_loss: 0.0324 - 379ms/epoch - 4ms/step\n",
            "Epoch 104/200\n",
            "100/100 - 0s - loss: 0.0375 - val_loss: 0.1095 - 413ms/epoch - 4ms/step\n",
            "Epoch 105/200\n",
            "100/100 - 0s - loss: 0.0241 - val_loss: 0.0161 - 383ms/epoch - 4ms/step\n",
            "Epoch 106/200\n",
            "100/100 - 0s - loss: 0.0127 - val_loss: 0.0221 - 395ms/epoch - 4ms/step\n",
            "Epoch 107/200\n",
            "100/100 - 0s - loss: 0.0120 - val_loss: 0.0087 - 431ms/epoch - 4ms/step\n",
            "Epoch 108/200\n",
            "100/100 - 0s - loss: 0.0150 - val_loss: 0.0073 - 366ms/epoch - 4ms/step\n",
            "Epoch 109/200\n",
            "100/100 - 0s - loss: 0.0312 - val_loss: 0.0629 - 230ms/epoch - 2ms/step\n",
            "Epoch 110/200\n",
            "100/100 - 0s - loss: 0.0212 - val_loss: 0.0156 - 264ms/epoch - 3ms/step\n",
            "Epoch 111/200\n",
            "100/100 - 0s - loss: 0.0128 - val_loss: 0.0345 - 227ms/epoch - 2ms/step\n",
            "Epoch 112/200\n",
            "100/100 - 0s - loss: 0.0420 - val_loss: 0.0215 - 266ms/epoch - 3ms/step\n",
            "Epoch 113/200\n",
            "100/100 - 0s - loss: 0.0197 - val_loss: 0.0158 - 254ms/epoch - 3ms/step\n",
            "Epoch 114/200\n",
            "100/100 - 0s - loss: 0.0186 - val_loss: 0.0088 - 260ms/epoch - 3ms/step\n",
            "Epoch 115/200\n",
            "100/100 - 0s - loss: 0.0122 - val_loss: 0.0126 - 268ms/epoch - 3ms/step\n",
            "Epoch 116/200\n",
            "100/100 - 0s - loss: 0.0388 - val_loss: 0.0994 - 235ms/epoch - 2ms/step\n",
            "Epoch 117/200\n",
            "100/100 - 0s - loss: 0.0390 - val_loss: 0.0096 - 230ms/epoch - 2ms/step\n",
            "Epoch 118/200\n",
            "100/100 - 0s - loss: 0.0131 - val_loss: 0.0064 - 259ms/epoch - 3ms/step\n",
            "Epoch 119/200\n",
            "100/100 - 0s - loss: 0.0200 - val_loss: 0.0169 - 417ms/epoch - 4ms/step\n",
            "Epoch 120/200\n",
            "100/100 - 0s - loss: 0.0109 - val_loss: 0.0102 - 256ms/epoch - 3ms/step\n",
            "Epoch 121/200\n",
            "100/100 - 0s - loss: 0.0160 - val_loss: 0.0174 - 239ms/epoch - 2ms/step\n",
            "Epoch 122/200\n",
            "100/100 - 0s - loss: 0.0154 - val_loss: 0.0133 - 279ms/epoch - 3ms/step\n",
            "Epoch 123/200\n",
            "100/100 - 0s - loss: 0.0125 - val_loss: 0.0258 - 252ms/epoch - 3ms/step\n",
            "Epoch 124/200\n",
            "100/100 - 0s - loss: 0.0401 - val_loss: 0.0308 - 231ms/epoch - 2ms/step\n",
            "Epoch 125/200\n",
            "100/100 - 0s - loss: 0.0161 - val_loss: 0.0462 - 250ms/epoch - 3ms/step\n",
            "Epoch 126/200\n",
            "100/100 - 0s - loss: 0.0205 - val_loss: 0.0127 - 271ms/epoch - 3ms/step\n",
            "Epoch 127/200\n",
            "100/100 - 0s - loss: 0.0152 - val_loss: 0.0154 - 267ms/epoch - 3ms/step\n",
            "Epoch 128/200\n",
            "100/100 - 0s - loss: 0.0141 - val_loss: 0.0147 - 238ms/epoch - 2ms/step\n",
            "Epoch 129/200\n",
            "100/100 - 0s - loss: 0.0162 - val_loss: 0.0128 - 234ms/epoch - 2ms/step\n",
            "Epoch 130/200\n",
            "100/100 - 0s - loss: 0.0106 - val_loss: 0.0077 - 249ms/epoch - 2ms/step\n",
            "Epoch 131/200\n",
            "100/100 - 0s - loss: 0.0197 - val_loss: 0.0285 - 246ms/epoch - 2ms/step\n",
            "Epoch 132/200\n",
            "100/100 - 0s - loss: 0.0183 - val_loss: 0.0096 - 268ms/epoch - 3ms/step\n",
            "Epoch 133/200\n",
            "100/100 - 0s - loss: 0.0119 - val_loss: 0.0070 - 239ms/epoch - 2ms/step\n",
            "Epoch 134/200\n",
            "100/100 - 0s - loss: 0.0149 - val_loss: 0.0160 - 250ms/epoch - 3ms/step\n",
            "Epoch 135/200\n",
            "100/100 - 0s - loss: 0.0167 - val_loss: 0.0052 - 237ms/epoch - 2ms/step\n",
            "Epoch 136/200\n",
            "100/100 - 0s - loss: 0.0219 - val_loss: 0.0586 - 265ms/epoch - 3ms/step\n",
            "Epoch 137/200\n",
            "100/100 - 0s - loss: 0.0278 - val_loss: 0.0085 - 276ms/epoch - 3ms/step\n",
            "Epoch 138/200\n",
            "100/100 - 0s - loss: 0.0115 - val_loss: 0.0197 - 301ms/epoch - 3ms/step\n",
            "Epoch 139/200\n",
            "100/100 - 0s - loss: 0.0213 - val_loss: 0.0275 - 274ms/epoch - 3ms/step\n",
            "Epoch 140/200\n",
            "100/100 - 0s - loss: 0.0166 - val_loss: 0.0086 - 271ms/epoch - 3ms/step\n",
            "Epoch 141/200\n",
            "100/100 - 0s - loss: 0.0107 - val_loss: 0.0061 - 236ms/epoch - 2ms/step\n",
            "Epoch 142/200\n",
            "100/100 - 0s - loss: 0.0076 - val_loss: 0.0077 - 256ms/epoch - 3ms/step\n",
            "Epoch 143/200\n",
            "100/100 - 0s - loss: 0.0140 - val_loss: 0.0357 - 242ms/epoch - 2ms/step\n",
            "Epoch 144/200\n",
            "100/100 - 0s - loss: 0.0218 - val_loss: 0.0189 - 259ms/epoch - 3ms/step\n",
            "Epoch 145/200\n",
            "100/100 - 0s - loss: 0.0140 - val_loss: 0.0315 - 277ms/epoch - 3ms/step\n",
            "Epoch 146/200\n",
            "100/100 - 0s - loss: 0.0078 - val_loss: 0.0050 - 351ms/epoch - 4ms/step\n",
            "Epoch 147/200\n",
            "100/100 - 0s - loss: 0.0118 - val_loss: 0.0081 - 397ms/epoch - 4ms/step\n",
            "Epoch 148/200\n",
            "100/100 - 0s - loss: 0.0072 - val_loss: 0.0047 - 423ms/epoch - 4ms/step\n",
            "Epoch 149/200\n",
            "100/100 - 0s - loss: 0.0145 - val_loss: 0.0262 - 375ms/epoch - 4ms/step\n",
            "Epoch 150/200\n",
            "100/100 - 0s - loss: 0.0222 - val_loss: 0.0294 - 363ms/epoch - 4ms/step\n",
            "Epoch 151/200\n",
            "100/100 - 0s - loss: 0.0414 - val_loss: 0.0155 - 378ms/epoch - 4ms/step\n",
            "Epoch 152/200\n",
            "100/100 - 0s - loss: 0.0132 - val_loss: 0.0112 - 390ms/epoch - 4ms/step\n",
            "Epoch 153/200\n",
            "100/100 - 0s - loss: 0.0113 - val_loss: 0.0118 - 393ms/epoch - 4ms/step\n",
            "Epoch 154/200\n",
            "100/100 - 0s - loss: 0.0092 - val_loss: 0.0102 - 400ms/epoch - 4ms/step\n",
            "Epoch 155/200\n",
            "100/100 - 0s - loss: 0.0141 - val_loss: 0.0096 - 279ms/epoch - 3ms/step\n",
            "Epoch 156/200\n",
            "100/100 - 0s - loss: 0.0145 - val_loss: 0.0146 - 233ms/epoch - 2ms/step\n",
            "Epoch 157/200\n",
            "100/100 - 0s - loss: 0.0107 - val_loss: 0.0096 - 300ms/epoch - 3ms/step\n",
            "Epoch 158/200\n",
            "100/100 - 0s - loss: 0.0298 - val_loss: 0.0412 - 249ms/epoch - 2ms/step\n",
            "Epoch 159/200\n",
            "100/100 - 0s - loss: 0.0525 - val_loss: 0.0131 - 282ms/epoch - 3ms/step\n",
            "Epoch 160/200\n",
            "100/100 - 0s - loss: 0.0078 - val_loss: 0.0086 - 290ms/epoch - 3ms/step\n",
            "Epoch 161/200\n",
            "100/100 - 0s - loss: 0.0144 - val_loss: 0.0095 - 263ms/epoch - 3ms/step\n",
            "Epoch 162/200\n",
            "100/100 - 0s - loss: 0.0060 - val_loss: 0.0845 - 274ms/epoch - 3ms/step\n",
            "Epoch 163/200\n",
            "100/100 - 0s - loss: 0.0305 - val_loss: 0.0080 - 266ms/epoch - 3ms/step\n",
            "Epoch 164/200\n",
            "100/100 - 0s - loss: 0.0070 - val_loss: 0.0134 - 265ms/epoch - 3ms/step\n",
            "Epoch 165/200\n",
            "100/100 - 0s - loss: 0.0099 - val_loss: 0.0144 - 267ms/epoch - 3ms/step\n",
            "Epoch 166/200\n",
            "100/100 - 0s - loss: 0.0106 - val_loss: 0.0164 - 255ms/epoch - 3ms/step\n",
            "Epoch 167/200\n",
            "100/100 - 0s - loss: 0.0095 - val_loss: 0.0109 - 237ms/epoch - 2ms/step\n",
            "Epoch 168/200\n",
            "100/100 - 0s - loss: 0.0244 - val_loss: 0.0876 - 262ms/epoch - 3ms/step\n",
            "Epoch 169/200\n",
            "100/100 - 0s - loss: 0.0163 - val_loss: 0.0073 - 235ms/epoch - 2ms/step\n",
            "Epoch 170/200\n",
            "100/100 - 0s - loss: 0.0356 - val_loss: 0.0335 - 241ms/epoch - 2ms/step\n",
            "Epoch 171/200\n",
            "100/100 - 0s - loss: 0.0148 - val_loss: 0.0050 - 257ms/epoch - 3ms/step\n",
            "Epoch 172/200\n",
            "100/100 - 0s - loss: 0.0038 - val_loss: 0.0114 - 276ms/epoch - 3ms/step\n",
            "Epoch 173/200\n",
            "100/100 - 0s - loss: 0.0209 - val_loss: 0.0350 - 279ms/epoch - 3ms/step\n",
            "Epoch 174/200\n",
            "100/100 - 0s - loss: 0.0208 - val_loss: 0.0110 - 268ms/epoch - 3ms/step\n",
            "Epoch 175/200\n",
            "100/100 - 0s - loss: 0.0073 - val_loss: 0.0061 - 278ms/epoch - 3ms/step\n",
            "Epoch 176/200\n",
            "100/100 - 0s - loss: 0.0082 - val_loss: 0.0072 - 302ms/epoch - 3ms/step\n",
            "Epoch 177/200\n",
            "100/100 - 0s - loss: 0.0045 - val_loss: 0.0045 - 249ms/epoch - 2ms/step\n",
            "Epoch 178/200\n",
            "100/100 - 0s - loss: 0.0057 - val_loss: 0.0136 - 266ms/epoch - 3ms/step\n",
            "Epoch 179/200\n",
            "100/100 - 0s - loss: 0.0172 - val_loss: 0.0316 - 257ms/epoch - 3ms/step\n",
            "Epoch 180/200\n",
            "100/100 - 0s - loss: 0.0104 - val_loss: 0.0116 - 283ms/epoch - 3ms/step\n",
            "Epoch 181/200\n",
            "100/100 - 0s - loss: 0.0067 - val_loss: 0.0178 - 262ms/epoch - 3ms/step\n",
            "Epoch 182/200\n",
            "100/100 - 0s - loss: 0.0128 - val_loss: 0.0147 - 254ms/epoch - 3ms/step\n",
            "Epoch 183/200\n",
            "100/100 - 0s - loss: 0.0109 - val_loss: 0.0095 - 275ms/epoch - 3ms/step\n",
            "Epoch 184/200\n",
            "100/100 - 0s - loss: 0.0058 - val_loss: 0.0032 - 261ms/epoch - 3ms/step\n",
            "Epoch 185/200\n",
            "100/100 - 0s - loss: 0.0082 - val_loss: 0.0052 - 258ms/epoch - 3ms/step\n",
            "Epoch 186/200\n",
            "100/100 - 0s - loss: 0.0151 - val_loss: 0.0041 - 270ms/epoch - 3ms/step\n",
            "Epoch 187/200\n",
            "100/100 - 0s - loss: 0.0123 - val_loss: 0.0119 - 279ms/epoch - 3ms/step\n",
            "Epoch 188/200\n",
            "100/100 - 0s - loss: 0.0248 - val_loss: 0.0110 - 261ms/epoch - 3ms/step\n",
            "Epoch 189/200\n",
            "100/100 - 0s - loss: 0.0065 - val_loss: 0.0229 - 267ms/epoch - 3ms/step\n",
            "Epoch 190/200\n",
            "100/100 - 0s - loss: 0.0145 - val_loss: 0.0195 - 229ms/epoch - 2ms/step\n",
            "Epoch 191/200\n",
            "100/100 - 0s - loss: 0.0319 - val_loss: 0.0090 - 265ms/epoch - 3ms/step\n",
            "Epoch 192/200\n",
            "100/100 - 0s - loss: 0.0081 - val_loss: 0.0040 - 367ms/epoch - 4ms/step\n",
            "Epoch 193/200\n",
            "100/100 - 0s - loss: 0.0072 - val_loss: 0.0083 - 411ms/epoch - 4ms/step\n",
            "Epoch 194/200\n",
            "100/100 - 0s - loss: 0.0122 - val_loss: 0.0132 - 408ms/epoch - 4ms/step\n",
            "Epoch 195/200\n",
            "100/100 - 0s - loss: 0.0244 - val_loss: 0.0078 - 361ms/epoch - 4ms/step\n",
            "Epoch 196/200\n",
            "100/100 - 0s - loss: 0.0245 - val_loss: 0.0106 - 395ms/epoch - 4ms/step\n",
            "Epoch 197/200\n",
            "100/100 - 0s - loss: 0.0069 - val_loss: 0.0057 - 404ms/epoch - 4ms/step\n",
            "Epoch 198/200\n",
            "100/100 - 0s - loss: 0.0065 - val_loss: 0.0042 - 408ms/epoch - 4ms/step\n",
            "Epoch 199/200\n",
            "100/100 - 0s - loss: 0.0052 - val_loss: 0.0170 - 408ms/epoch - 4ms/step\n",
            "Epoch 200/200\n",
            "100/100 - 0s - loss: 0.0054 - val_loss: 0.0282 - 365ms/epoch - 4ms/step\n"
          ]
        }
      ]
    },
    {
      "cell_type": "markdown",
      "source": [
        "##Paso 5: Evaluo la red"
      ],
      "metadata": {
        "id": "TIK20njey7kq"
      }
    },
    {
      "cell_type": "code",
      "source": [
        "# Make predictions with the model\n",
        "y_pred = model.predict(scaled_X_test)\n"
      ],
      "metadata": {
        "colab": {
          "base_uri": "https://localhost:8080/"
        },
        "id": "MAHrC4_TlPno",
        "outputId": "e306500f-b9fb-43c0-a9db-bba013843638"
      },
      "execution_count": 15,
      "outputs": [
        {
          "output_type": "stream",
          "name": "stdout",
          "text": [
            "32/32 [==============================] - 0s 2ms/step\n"
          ]
        }
      ]
    },
    {
      "cell_type": "code",
      "source": [
        "import matplotlib.pyplot as plt\n",
        "\n",
        "# Visualización de la pérdida\n",
        "plt.plot(historicalModel.history['loss'], label='Training Loss')\n",
        "plt.plot(historicalModel.history['val_loss'], label='Validation Loss')\n",
        "plt.xlabel('Epoch')\n",
        "plt.ylabel('Loss')\n",
        "plt.legend()\n",
        "plt.show()"
      ],
      "metadata": {
        "colab": {
          "base_uri": "https://localhost:8080/",
          "height": 449
        },
        "id": "HLaOuihsKRny",
        "outputId": "675a8c6d-fa63-43e7-bcb0-cf3c0aa62081"
      },
      "execution_count": 17,
      "outputs": [
        {
          "output_type": "display_data",
          "data": {
            "text/plain": [
              "<Figure size 640x480 with 1 Axes>"
            ],
            "image/png": "[encoded data removed]"
          },
          "metadata": {}
        }
      ]
    },
    {
      "cell_type": "code",
      "source": [
        "# Evaluate\n",
        "result = model.evaluate(scaled_X_test, y_test)\n",
        "print(\"Evaluate the model: \",result)"
      ],
      "metadata": {
        "colab": {
          "base_uri": "https://localhost:8080/"
        },
        "id": "2IiAJpWNy9hM",
        "outputId": "ad1b5cd0-385e-4ef5-ebe6-d45555fa047f"
      },
      "execution_count": 18,
      "outputs": [
        {
          "output_type": "stream",
          "name": "stdout",
          "text": [
            "32/32 [==============================] - 0s 2ms/step - loss: 0.0329\n",
            "Evaluate the model:  0.032914016395807266\n"
          ]
        }
      ]
    },
    {
      "cell_type": "code",
      "source": [
        "import matplotlib.pyplot as plt\n",
        "plt.xlabel(\"# Epoca\")\n",
        "plt.ylabel(\"Magnitud de pérdida\")\n",
        "plt.plot(historicalModel.history[\"loss\"])"
      ],
      "metadata": {
        "colab": {
          "base_uri": "https://localhost:8080/",
          "height": 466
        },
        "id": "7G11A6q6lawT",
        "outputId": "466f148b-ac02-4ecb-adae-68a15719948a"
      },
      "execution_count": 21,
      "outputs": [
        {
          "output_type": "execute_result",
          "data": {
            "text/plain": [
              "[<matplotlib.lines.Line2D at 0x7d892cc92770>]"
            ]
          },
          "metadata": {},
          "execution_count": 21
        },
        {
          "output_type": "display_data",
          "data": {
            "text/plain": [
              "<Figure size 640x480 with 1 Axes>"
            ],
            "image/png": "[encoded data removed]"
          },
          "metadata": {}
        }
      ]
    },
    {
      "cell_type": "code",
      "source": [
        "print(\"Datos a predecir:\")\n",
        "print(X_train[:3])\n",
        "print(\"-----------------\")\n",
        "\n",
        "print(\"Resultados obtenidos:\")\n",
        "print(y_pred[:3])\n",
        "print(\"Valores correctos:\")\n",
        "print(y_test[:3])"
      ],
      "metadata": {
        "colab": {
          "base_uri": "https://localhost:8080/"
        },
        "id": "z3Bb2JLtlit8",
        "outputId": "1326a5cb-5267-4f00-95d1-f3ac5a355b50"
      },
      "execution_count": 24,
      "outputs": [
        {
          "output_type": "stream",
          "name": "stdout",
          "text": [
            "Datos a predecir:\n",
            "      colesterol  presion  glucosa  edad  sobrepeso  tabaquismo\n",
            "3126         2.1      1.3      1.7     9          0           1\n",
            "2014         2.2      0.8      1.9     3          0           1\n",
            "2541         2.8      1.1      0.8     3          1           1\n",
            "-----------------\n",
            "Resultados obtenidos:\n",
            "[[1.000000e+00]\n",
            " [3.161971e-11]\n",
            " [4.767037e-09]]\n",
            "Valores correctos:\n",
            "[1 0 0]\n"
          ]
        }
      ]
    },
    {
      "cell_type": "code",
      "source": [
        "model.save(\"model.keras\")\n",
        "model = keras.models.load_model(\"model.keras\")"
      ],
      "metadata": {
        "id": "N7H8to-MvJVj"
      },
      "execution_count": 13,
      "outputs": []
    }
  ]
}